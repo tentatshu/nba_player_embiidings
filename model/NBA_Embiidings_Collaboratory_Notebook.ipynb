{
  "nbformat": 4,
  "nbformat_minor": 0,
  "metadata": {
    "colab": {
      "name": "NBA Embiidings Collaboratory Notebook",
      "provenance": [],
      "collapsed_sections": [
        "JndnmDMp66FL",
        "mNCLhxsXyOIS",
        "eQS5KQzBybTY"
      ],
      "toc_visible": true
    },
    "kernelspec": {
      "name": "python3",
      "display_name": "Python 3"
    }
  },
  "cells": [
    {
      "cell_type": "markdown",
      "metadata": {
        "id": "PULvPQZIiTd1",
        "colab_type": "text"
      },
      "source": [
        "# Environment Set Up"
      ]
    },
    {
      "cell_type": "code",
      "metadata": {
        "id": "hMqWDc_m6rUC",
        "colab_type": "code",
        "cellView": "both",
        "colab": {}
      },
      "source": [
        "# Licensed under the Apache License, Version 2.0 (the \"License\");\n",
        "# you may not use this file except in compliance with the License.\n",
        "# You may obtain a copy of the License at\n",
        "#\n",
        "# https://www.apache.org/licenses/LICENSE-2.0\n",
        "#\n",
        "# Unless required by applicable law or agreed to in writing, software\n",
        "# distributed under the License is distributed on an \"AS IS\" BASIS,\n",
        "# WITHOUT WARRANTIES OR CONDITIONS OF ANY KIND, either express or implied.\n",
        "# See the License for the specific language governing permissions and\n",
        "# limitations under the License."
      ],
      "execution_count": 0,
      "outputs": []
    },
    {
      "cell_type": "code",
      "metadata": {
        "id": "6nyL-MZ9_1C-",
        "colab_type": "code",
        "outputId": "6047908b-033b-4455-efc2-bc6046ef660a",
        "colab": {
          "base_uri": "https://localhost:8080/",
          "height": 122
        }
      },
      "source": [
        "# mount google drive\n",
        "from google.colab import drive\n",
        "drive.mount('/content/drive')"
      ],
      "execution_count": 0,
      "outputs": [
        {
          "output_type": "stream",
          "text": [
            "Go to this URL in a browser: https://accounts.google.com/o/oauth2/auth?client_id=947318989803-6bn6qk8qdgf4n4g3pfee6491hc0brc4i.apps.googleusercontent.com&redirect_uri=urn%3Aietf%3Awg%3Aoauth%3A2.0%3Aoob&scope=email%20https%3A%2F%2Fwww.googleapis.com%2Fauth%2Fdocs.test%20https%3A%2F%2Fwww.googleapis.com%2Fauth%2Fdrive%20https%3A%2F%2Fwww.googleapis.com%2Fauth%2Fdrive.photos.readonly%20https%3A%2F%2Fwww.googleapis.com%2Fauth%2Fpeopleapi.readonly&response_type=code\n",
            "\n",
            "Enter your authorization code:\n",
            "··········\n",
            "Mounted at /content/drive\n"
          ],
          "name": "stdout"
        }
      ]
    },
    {
      "cell_type": "code",
      "metadata": {
        "id": "jGWqDqFFL_NZ",
        "colab_type": "code",
        "colab": {}
      },
      "source": [
        "# import libraries\n",
        "from __future__ import print_function\n",
        "\n",
        "import collections\n",
        "import io\n",
        "import math\n",
        "\n",
        "import matplotlib.pyplot as plt\n",
        "import numpy as np\n",
        "import pandas as pd\n",
        "import tensorflow as tf\n",
        "from tensorflow import keras\n",
        "from IPython import display\n",
        "from sklearn import metrics\n",
        "\n",
        "tf.logging.set_verbosity(tf.logging.ERROR)"
      ],
      "execution_count": 0,
      "outputs": []
    },
    {
      "cell_type": "markdown",
      "metadata": {
        "id": "7TD8hQZOolp-",
        "colab_type": "text"
      },
      "source": [
        "# Data Load and Preparation"
      ]
    },
    {
      "cell_type": "code",
      "metadata": {
        "id": "z2Q956CY0kQg",
        "colab_type": "code",
        "outputId": "4a921339-b39e-4e8d-869c-9c553b66ff66",
        "colab": {
          "base_uri": "https://localhost:8080/",
          "height": 241
        }
      },
      "source": [
        "# read in nba player data\n",
        "data = pd.read_csv(\"/content/drive/My Drive/Colab Notebooks/NBA/shooter_and_defender_per_shot_ranked.csv\", sep=\",\")\n",
        "\n",
        "# Simple normalization of location parameters. Ultimately removed normalization as resulted in negligible to lower performance.\n",
        "# data[['LOC_X']] = (data[['LOC_X']] +  250)/500\n",
        "# data[['LOC_Y']] = (data[['LOC_Y']] +  50)/900\n",
        "# data[['SHOT_DISTANCE']] = data[['SHOT_DISTANCE']]/100\n",
        "\n",
        "# assume if no player_id for defending player then its a generic player which is 443\n",
        "data.fillna(value={'defender_embedding_index': 443}, inplace=True)\n",
        "print(data.shape)\n",
        "data.head(5)"
      ],
      "execution_count": 0,
      "outputs": [
        {
          "output_type": "stream",
          "text": [
            "(27321, 14)\n"
          ],
          "name": "stdout"
        },
        {
          "output_type": "execute_result",
          "data": {
            "text/html": [
              "<div>\n",
              "<style scoped>\n",
              "    .dataframe tbody tr th:only-of-type {\n",
              "        vertical-align: middle;\n",
              "    }\n",
              "\n",
              "    .dataframe tbody tr th {\n",
              "        vertical-align: top;\n",
              "    }\n",
              "\n",
              "    .dataframe thead th {\n",
              "        text-align: right;\n",
              "    }\n",
              "</style>\n",
              "<table border=\"1\" class=\"dataframe\">\n",
              "  <thead>\n",
              "    <tr style=\"text-align: right;\">\n",
              "      <th></th>\n",
              "      <th>player_id</th>\n",
              "      <th>game_id</th>\n",
              "      <th>event_id</th>\n",
              "      <th>game_clock</th>\n",
              "      <th>shot_clock</th>\n",
              "      <th>x_loc</th>\n",
              "      <th>y_loc</th>\n",
              "      <th>player_id_closest_defender</th>\n",
              "      <th>closest_distance_from_shooter</th>\n",
              "      <th>distance_from_basket</th>\n",
              "      <th>shot_made_flag</th>\n",
              "      <th>recorded_shot_distance</th>\n",
              "      <th>shooter_embedding_index</th>\n",
              "      <th>defender_embedding_index</th>\n",
              "    </tr>\n",
              "  </thead>\n",
              "  <tbody>\n",
              "    <tr>\n",
              "      <th>0</th>\n",
              "      <td>201143</td>\n",
              "      <td>21500001</td>\n",
              "      <td>228</td>\n",
              "      <td>1346.48</td>\n",
              "      <td>10.44</td>\n",
              "      <td>5.90704</td>\n",
              "      <td>38.78493</td>\n",
              "      <td>203083</td>\n",
              "      <td>4.823530</td>\n",
              "      <td>14.088122</td>\n",
              "      <td>1</td>\n",
              "      <td>13</td>\n",
              "      <td>98</td>\n",
              "      <td>255.0</td>\n",
              "    </tr>\n",
              "    <tr>\n",
              "      <th>1</th>\n",
              "      <td>202704</td>\n",
              "      <td>21500001</td>\n",
              "      <td>437</td>\n",
              "      <td>2575.29</td>\n",
              "      <td>13.97</td>\n",
              "      <td>19.94944</td>\n",
              "      <td>21.56599</td>\n",
              "      <td>200794</td>\n",
              "      <td>0.885241</td>\n",
              "      <td>17.293812</td>\n",
              "      <td>0</td>\n",
              "      <td>1</td>\n",
              "      <td>233</td>\n",
              "      <td>94.0</td>\n",
              "    </tr>\n",
              "    <tr>\n",
              "      <th>2</th>\n",
              "      <td>2594</td>\n",
              "      <td>21500001</td>\n",
              "      <td>477</td>\n",
              "      <td>2721.36</td>\n",
              "      <td>11.19</td>\n",
              "      <td>22.62340</td>\n",
              "      <td>11.06127</td>\n",
              "      <td>203484</td>\n",
              "      <td>2.368097</td>\n",
              "      <td>24.070023</td>\n",
              "      <td>1</td>\n",
              "      <td>20</td>\n",
              "      <td>46</td>\n",
              "      <td>306.0</td>\n",
              "    </tr>\n",
              "    <tr>\n",
              "      <th>3</th>\n",
              "      <td>2594</td>\n",
              "      <td>21500001</td>\n",
              "      <td>507</td>\n",
              "      <td>2831.96</td>\n",
              "      <td>17.99</td>\n",
              "      <td>22.47487</td>\n",
              "      <td>13.84307</td>\n",
              "      <td>202704</td>\n",
              "      <td>5.118656</td>\n",
              "      <td>22.444323</td>\n",
              "      <td>0</td>\n",
              "      <td>21</td>\n",
              "      <td>46</td>\n",
              "      <td>233.0</td>\n",
              "    </tr>\n",
              "    <tr>\n",
              "      <th>4</th>\n",
              "      <td>203076</td>\n",
              "      <td>21500003</td>\n",
              "      <td>504</td>\n",
              "      <td>2421.86</td>\n",
              "      <td>8.87</td>\n",
              "      <td>24.98951</td>\n",
              "      <td>35.88171</td>\n",
              "      <td>202691</td>\n",
              "      <td>2.629288</td>\n",
              "      <td>24.534673</td>\n",
              "      <td>1</td>\n",
              "      <td>16</td>\n",
              "      <td>248</td>\n",
              "      <td>222.0</td>\n",
              "    </tr>\n",
              "  </tbody>\n",
              "</table>\n",
              "</div>"
            ],
            "text/plain": [
              "   player_id   game_id  ...  shooter_embedding_index  defender_embedding_index\n",
              "0     201143  21500001  ...                       98                     255.0\n",
              "1     202704  21500001  ...                      233                      94.0\n",
              "2       2594  21500001  ...                       46                     306.0\n",
              "3       2594  21500001  ...                       46                     233.0\n",
              "4     203076  21500003  ...                      248                     222.0\n",
              "\n",
              "[5 rows x 14 columns]"
            ]
          },
          "metadata": {
            "tags": []
          },
          "execution_count": 224
        }
      ]
    },
    {
      "cell_type": "code",
      "metadata": {
        "id": "M7kxSYMCNRIf",
        "colab_type": "code",
        "outputId": "2170ab69-cfbe-41ba-f8f6-e3b197552a4c",
        "colab": {
          "base_uri": "https://localhost:8080/",
          "height": 241
        }
      },
      "source": [
        "# filter such that shooter has at least 2 shots for train test split\n",
        "data_grouped = data.groupby(['player_id']).size().reset_index(name='count')\n",
        "data_grouped = data_grouped[data_grouped['count'] > 2]\n",
        "\n",
        "data = data.merge(data_grouped, on=['player_id'], how='inner')\n",
        "\n",
        "print(data.shape)\n",
        "data.head(5)"
      ],
      "execution_count": 0,
      "outputs": [
        {
          "output_type": "stream",
          "text": [
            "(27297, 15)\n"
          ],
          "name": "stdout"
        },
        {
          "output_type": "execute_result",
          "data": {
            "text/html": [
              "<div>\n",
              "<style scoped>\n",
              "    .dataframe tbody tr th:only-of-type {\n",
              "        vertical-align: middle;\n",
              "    }\n",
              "\n",
              "    .dataframe tbody tr th {\n",
              "        vertical-align: top;\n",
              "    }\n",
              "\n",
              "    .dataframe thead th {\n",
              "        text-align: right;\n",
              "    }\n",
              "</style>\n",
              "<table border=\"1\" class=\"dataframe\">\n",
              "  <thead>\n",
              "    <tr style=\"text-align: right;\">\n",
              "      <th></th>\n",
              "      <th>player_id</th>\n",
              "      <th>game_id</th>\n",
              "      <th>event_id</th>\n",
              "      <th>game_clock</th>\n",
              "      <th>shot_clock</th>\n",
              "      <th>x_loc</th>\n",
              "      <th>y_loc</th>\n",
              "      <th>player_id_closest_defender</th>\n",
              "      <th>closest_distance_from_shooter</th>\n",
              "      <th>distance_from_basket</th>\n",
              "      <th>shot_made_flag</th>\n",
              "      <th>recorded_shot_distance</th>\n",
              "      <th>shooter_embedding_index</th>\n",
              "      <th>defender_embedding_index</th>\n",
              "      <th>count</th>\n",
              "    </tr>\n",
              "  </thead>\n",
              "  <tbody>\n",
              "    <tr>\n",
              "      <th>0</th>\n",
              "      <td>201143</td>\n",
              "      <td>21500001</td>\n",
              "      <td>228</td>\n",
              "      <td>1346.48</td>\n",
              "      <td>10.44</td>\n",
              "      <td>5.90704</td>\n",
              "      <td>38.78493</td>\n",
              "      <td>203083</td>\n",
              "      <td>4.823530</td>\n",
              "      <td>14.088122</td>\n",
              "      <td>1</td>\n",
              "      <td>13</td>\n",
              "      <td>98</td>\n",
              "      <td>255.0</td>\n",
              "      <td>204</td>\n",
              "    </tr>\n",
              "    <tr>\n",
              "      <th>1</th>\n",
              "      <td>201143</td>\n",
              "      <td>21500389</td>\n",
              "      <td>23</td>\n",
              "      <td>155.78</td>\n",
              "      <td>22.63</td>\n",
              "      <td>34.75976</td>\n",
              "      <td>28.39524</td>\n",
              "      <td>101161</td>\n",
              "      <td>7.724437</td>\n",
              "      <td>31.940727</td>\n",
              "      <td>1</td>\n",
              "      <td>1</td>\n",
              "      <td>98</td>\n",
              "      <td>79.0</td>\n",
              "      <td>204</td>\n",
              "    </tr>\n",
              "    <tr>\n",
              "      <th>2</th>\n",
              "      <td>201143</td>\n",
              "      <td>21500117</td>\n",
              "      <td>128</td>\n",
              "      <td>684.09</td>\n",
              "      <td>11.85</td>\n",
              "      <td>28.63058</td>\n",
              "      <td>34.59180</td>\n",
              "      <td>201962</td>\n",
              "      <td>11.755243</td>\n",
              "      <td>27.366572</td>\n",
              "      <td>1</td>\n",
              "      <td>24</td>\n",
              "      <td>98</td>\n",
              "      <td>172.0</td>\n",
              "      <td>204</td>\n",
              "    </tr>\n",
              "    <tr>\n",
              "      <th>3</th>\n",
              "      <td>201143</td>\n",
              "      <td>21500639</td>\n",
              "      <td>9</td>\n",
              "      <td>98.68</td>\n",
              "      <td>14.22</td>\n",
              "      <td>17.88401</td>\n",
              "      <td>27.73281</td>\n",
              "      <td>203943</td>\n",
              "      <td>5.145146</td>\n",
              "      <td>15.132812</td>\n",
              "      <td>0</td>\n",
              "      <td>9</td>\n",
              "      <td>98</td>\n",
              "      <td>364.0</td>\n",
              "      <td>204</td>\n",
              "    </tr>\n",
              "    <tr>\n",
              "      <th>4</th>\n",
              "      <td>201143</td>\n",
              "      <td>21500117</td>\n",
              "      <td>185</td>\n",
              "      <td>1071.38</td>\n",
              "      <td>12.05</td>\n",
              "      <td>22.85049</td>\n",
              "      <td>28.88055</td>\n",
              "      <td>201583</td>\n",
              "      <td>8.837067</td>\n",
              "      <td>20.226236</td>\n",
              "      <td>1</td>\n",
              "      <td>18</td>\n",
              "      <td>98</td>\n",
              "      <td>139.0</td>\n",
              "      <td>204</td>\n",
              "    </tr>\n",
              "  </tbody>\n",
              "</table>\n",
              "</div>"
            ],
            "text/plain": [
              "   player_id   game_id  ...  defender_embedding_index  count\n",
              "0     201143  21500001  ...                     255.0    204\n",
              "1     201143  21500389  ...                      79.0    204\n",
              "2     201143  21500117  ...                     172.0    204\n",
              "3     201143  21500639  ...                     364.0    204\n",
              "4     201143  21500117  ...                     139.0    204\n",
              "\n",
              "[5 rows x 15 columns]"
            ]
          },
          "metadata": {
            "tags": []
          },
          "execution_count": 225
        }
      ]
    },
    {
      "cell_type": "code",
      "metadata": {
        "id": "ppgVP7UuGf8A",
        "colab_type": "code",
        "outputId": "96b7a4f5-2a44-4a72-fe2e-d31c676d90cf",
        "colab": {
          "base_uri": "https://localhost:8080/",
          "height": 284
        }
      },
      "source": [
        "# Distribution of filtered plays across defenders\n",
        "sns.distplot(data.defender_embedding_index);"
      ],
      "execution_count": 0,
      "outputs": [
        {
          "output_type": "display_data",
          "data": {
            "image/png": "[encoded data removed]",
            "text/plain": [
              "<Figure size 432x288 with 1 Axes>"
            ]
          },
          "metadata": {
            "tags": []
          }
        }
      ]
    },
    {
      "cell_type": "markdown",
      "metadata": {
        "id": "WTcsJ8iYoUbs",
        "colab_type": "text"
      },
      "source": [
        "# Model Architecture"
      ]
    },
    {
      "cell_type": "code",
      "metadata": {
        "id": "NpsMZQhn03aL",
        "colab_type": "code",
        "outputId": "33277884-da84-444d-fc76-bcede167e6c7",
        "colab": {
          "base_uri": "https://localhost:8080/",
          "height": 34
        }
      },
      "source": [
        "# Model parameters\n",
        "terms_embedding_column = tf.feature_column.embedding_column('player_id', dimension=5)\n",
        "feature_columns = ['shooter_embedding_index', 'x_loc', 'y_loc','recorded_shot_distance', 'closest_distance_from_shooter', 'defender_embedding_index'] #'distance_from_basket',\n",
        "\n",
        "# + 1 for players without any shot record that are defenders\n",
        "player_size = 443 + 1\n",
        "player_size"
      ],
      "execution_count": 0,
      "outputs": [
        {
          "output_type": "execute_result",
          "data": {
            "text/plain": [
              "444"
            ]
          },
          "metadata": {
            "tags": []
          },
          "execution_count": 227
        }
      ]
    },
    {
      "cell_type": "code",
      "metadata": {
        "id": "Tvwy4NpI2HDB",
        "colab_type": "code",
        "outputId": "18fff8d7-77e6-4aa2-d802-f93abfaf19bc",
        "colab": {
          "base_uri": "https://localhost:8080/",
          "height": 816
        }
      },
      "source": [
        "# Define model\n",
        "\n",
        "# inputs\n",
        "input1 = keras.layers.Input(shape=(1,))\n",
        "input2 = keras.layers.Input(shape=(4,))\n",
        "input3 = keras.layers.Input(shape=(1,))\n",
        "input4 = keras.layers.Input(shape=(1,))\n",
        "\n",
        "# offensive player embedding\n",
        "off_emb = keras.layers.Embedding(input_dim=player_size, output_dim=5,input_length = 1)(input1)\n",
        "off_emb = keras.layers.Flatten()(off_emb)\n",
        "\n",
        "# defensive player embedding\n",
        "def_emb = keras.layers.Embedding(input_dim=player_size, output_dim=5,input_length = 1)(input3)\n",
        "def_emb = keras.layers.Flatten()(def_emb)\n",
        "\n",
        "# layer 1\n",
        "# concatenate offensive \n",
        "off_concat = keras.layers.Concatenate(axis=1)([off_emb, input2]) \n",
        "# concatenate defensive\n",
        "def_concat = keras.layers.Concatenate(axis=1)([def_emb, input4]) \n",
        "\n",
        "# layer 2\n",
        "off_relu = keras.layers.Dense(20, activation='relu')(off_concat)\n",
        "def_relu = keras.layers.Dense(20, activation='relu')(def_concat)\n",
        "\n",
        "# layer 3\n",
        "full_concat = keras.layers.Concatenate(axis=1)([off_relu, def_relu])\n",
        "\n",
        "# fully connected nn\n",
        "w = keras.layers.Dense(40, activation='relu')(full_concat)\n",
        "x = keras.layers.Dense(20, activation='relu')(w)\n",
        "y = keras.layers.Dense(20, activation='relu')(x)\n",
        "z = keras.layers.Dense(5, activation='relu')(y)\n",
        "output = keras.layers.Dense(1, activation='sigmoid')(z)\n",
        "\n",
        "model = tf.keras.Model(inputs=[input1, input2, input3, input4], outputs=output)\n",
        "\n",
        "model.summary()"
      ],
      "execution_count": 0,
      "outputs": [
        {
          "output_type": "stream",
          "text": [
            "Model: \"model_10\"\n",
            "__________________________________________________________________________________________________\n",
            "Layer (type)                    Output Shape         Param #     Connected to                     \n",
            "==================================================================================================\n",
            "input_37 (InputLayer)           [(None, 1)]          0                                            \n",
            "__________________________________________________________________________________________________\n",
            "input_39 (InputLayer)           [(None, 1)]          0                                            \n",
            "__________________________________________________________________________________________________\n",
            "embedding_18 (Embedding)        (None, 1, 5)         2220        input_37[0][0]                   \n",
            "__________________________________________________________________________________________________\n",
            "embedding_19 (Embedding)        (None, 1, 5)         2220        input_39[0][0]                   \n",
            "__________________________________________________________________________________________________\n",
            "flatten_18 (Flatten)            (None, 5)            0           embedding_18[0][0]               \n",
            "__________________________________________________________________________________________________\n",
            "input_38 (InputLayer)           [(None, 4)]          0                                            \n",
            "__________________________________________________________________________________________________\n",
            "flatten_19 (Flatten)            (None, 5)            0           embedding_19[0][0]               \n",
            "__________________________________________________________________________________________________\n",
            "input_40 (InputLayer)           [(None, 1)]          0                                            \n",
            "__________________________________________________________________________________________________\n",
            "concatenate_26 (Concatenate)    (None, 9)            0           flatten_18[0][0]                 \n",
            "                                                                 input_38[0][0]                   \n",
            "__________________________________________________________________________________________________\n",
            "concatenate_27 (Concatenate)    (None, 6)            0           flatten_19[0][0]                 \n",
            "                                                                 input_40[0][0]                   \n",
            "__________________________________________________________________________________________________\n",
            "dense_64 (Dense)                (None, 20)           200         concatenate_26[0][0]             \n",
            "__________________________________________________________________________________________________\n",
            "dense_65 (Dense)                (None, 20)           140         concatenate_27[0][0]             \n",
            "__________________________________________________________________________________________________\n",
            "concatenate_28 (Concatenate)    (None, 40)           0           dense_64[0][0]                   \n",
            "                                                                 dense_65[0][0]                   \n",
            "__________________________________________________________________________________________________\n",
            "dense_66 (Dense)                (None, 40)           1640        concatenate_28[0][0]             \n",
            "__________________________________________________________________________________________________\n",
            "dense_67 (Dense)                (None, 20)           820         dense_66[0][0]                   \n",
            "__________________________________________________________________________________________________\n",
            "dense_68 (Dense)                (None, 20)           420         dense_67[0][0]                   \n",
            "__________________________________________________________________________________________________\n",
            "dense_69 (Dense)                (None, 5)            105         dense_68[0][0]                   \n",
            "__________________________________________________________________________________________________\n",
            "dense_70 (Dense)                (None, 1)            6           dense_69[0][0]                   \n",
            "==================================================================================================\n",
            "Total params: 7,771\n",
            "Trainable params: 7,771\n",
            "Non-trainable params: 0\n",
            "__________________________________________________________________________________________________\n"
          ],
          "name": "stdout"
        }
      ]
    },
    {
      "cell_type": "code",
      "metadata": {
        "id": "qmht06V0uXoO",
        "colab_type": "code",
        "outputId": "16842e0a-5f97-4839-834f-653adfda207c",
        "colab": {
          "base_uri": "https://localhost:8080/",
          "height": 1000
        }
      },
      "source": [
        "# graphical illustration of model architecutre\n",
        "from tensorflow.keras.utils import plot_model\n",
        "plot_model(model, to_file='model_plot.png', show_shapes=True, show_layer_names=True)"
      ],
      "execution_count": 0,
      "outputs": [
        {
          "output_type": "execute_result",
          "data": {
            "image/png": "[encoded data removed]",
            "text/plain": [
              "<IPython.core.display.Image object>"
            ]
          },
          "metadata": {
            "tags": []
          },
          "execution_count": 229
        }
      ]
    },
    {
      "cell_type": "code",
      "metadata": {
        "id": "LtBRXeBBtaPB",
        "colab_type": "code",
        "colab": {}
      },
      "source": [
        "from google.colab import drive\n",
        "drive.mount('/content/drive')"
      ],
      "execution_count": 0,
      "outputs": []
    },
    {
      "cell_type": "code",
      "metadata": {
        "id": "pNQc5fEgGjCo",
        "colab_type": "code",
        "colab": {}
      },
      "source": [
        "# compile model\n",
        "model.compile(optimizer='adam',\n",
        "              loss='binary_crossentropy',\n",
        "              metrics=['accuracy', 'AUC'])"
      ],
      "execution_count": 0,
      "outputs": []
    },
    {
      "cell_type": "code",
      "metadata": {
        "id": "mORQmW8VKYRv",
        "colab_type": "code",
        "outputId": "61934028-6e88-4084-9096-c3ead453f02a",
        "colab": {
          "base_uri": "https://localhost:8080/",
          "height": 224
        }
      },
      "source": [
        "# auditing via visualization of first few rows of data\n",
        "data.head()\n"
      ],
      "execution_count": 0,
      "outputs": [
        {
          "output_type": "execute_result",
          "data": {
            "text/html": [
              "<div>\n",
              "<style scoped>\n",
              "    .dataframe tbody tr th:only-of-type {\n",
              "        vertical-align: middle;\n",
              "    }\n",
              "\n",
              "    .dataframe tbody tr th {\n",
              "        vertical-align: top;\n",
              "    }\n",
              "\n",
              "    .dataframe thead th {\n",
              "        text-align: right;\n",
              "    }\n",
              "</style>\n",
              "<table border=\"1\" class=\"dataframe\">\n",
              "  <thead>\n",
              "    <tr style=\"text-align: right;\">\n",
              "      <th></th>\n",
              "      <th>player_id</th>\n",
              "      <th>game_id</th>\n",
              "      <th>event_id</th>\n",
              "      <th>game_clock</th>\n",
              "      <th>shot_clock</th>\n",
              "      <th>x_loc</th>\n",
              "      <th>y_loc</th>\n",
              "      <th>player_id_closest_defender</th>\n",
              "      <th>closest_distance_from_shooter</th>\n",
              "      <th>distance_from_basket</th>\n",
              "      <th>shot_made_flag</th>\n",
              "      <th>recorded_shot_distance</th>\n",
              "      <th>shooter_embedding_index_x</th>\n",
              "      <th>defender_embedding_index</th>\n",
              "      <th>shooter_embedding_index_y</th>\n",
              "      <th>count</th>\n",
              "    </tr>\n",
              "  </thead>\n",
              "  <tbody>\n",
              "    <tr>\n",
              "      <th>0</th>\n",
              "      <td>201143</td>\n",
              "      <td>21500001</td>\n",
              "      <td>228</td>\n",
              "      <td>1346.48</td>\n",
              "      <td>10.44</td>\n",
              "      <td>5.90704</td>\n",
              "      <td>38.78493</td>\n",
              "      <td>203083</td>\n",
              "      <td>4.823530</td>\n",
              "      <td>14.088122</td>\n",
              "      <td>1</td>\n",
              "      <td>13</td>\n",
              "      <td>98</td>\n",
              "      <td>255.0</td>\n",
              "      <td>98</td>\n",
              "      <td>204</td>\n",
              "    </tr>\n",
              "    <tr>\n",
              "      <th>1</th>\n",
              "      <td>201143</td>\n",
              "      <td>21500389</td>\n",
              "      <td>23</td>\n",
              "      <td>155.78</td>\n",
              "      <td>22.63</td>\n",
              "      <td>34.75976</td>\n",
              "      <td>28.39524</td>\n",
              "      <td>101161</td>\n",
              "      <td>7.724437</td>\n",
              "      <td>31.940727</td>\n",
              "      <td>1</td>\n",
              "      <td>1</td>\n",
              "      <td>98</td>\n",
              "      <td>79.0</td>\n",
              "      <td>98</td>\n",
              "      <td>204</td>\n",
              "    </tr>\n",
              "    <tr>\n",
              "      <th>2</th>\n",
              "      <td>201143</td>\n",
              "      <td>21500117</td>\n",
              "      <td>128</td>\n",
              "      <td>684.09</td>\n",
              "      <td>11.85</td>\n",
              "      <td>28.63058</td>\n",
              "      <td>34.59180</td>\n",
              "      <td>201962</td>\n",
              "      <td>11.755243</td>\n",
              "      <td>27.366572</td>\n",
              "      <td>1</td>\n",
              "      <td>24</td>\n",
              "      <td>98</td>\n",
              "      <td>172.0</td>\n",
              "      <td>98</td>\n",
              "      <td>204</td>\n",
              "    </tr>\n",
              "    <tr>\n",
              "      <th>3</th>\n",
              "      <td>201143</td>\n",
              "      <td>21500639</td>\n",
              "      <td>9</td>\n",
              "      <td>98.68</td>\n",
              "      <td>14.22</td>\n",
              "      <td>17.88401</td>\n",
              "      <td>27.73281</td>\n",
              "      <td>203943</td>\n",
              "      <td>5.145146</td>\n",
              "      <td>15.132812</td>\n",
              "      <td>0</td>\n",
              "      <td>9</td>\n",
              "      <td>98</td>\n",
              "      <td>364.0</td>\n",
              "      <td>98</td>\n",
              "      <td>204</td>\n",
              "    </tr>\n",
              "    <tr>\n",
              "      <th>4</th>\n",
              "      <td>201143</td>\n",
              "      <td>21500117</td>\n",
              "      <td>185</td>\n",
              "      <td>1071.38</td>\n",
              "      <td>12.05</td>\n",
              "      <td>22.85049</td>\n",
              "      <td>28.88055</td>\n",
              "      <td>201583</td>\n",
              "      <td>8.837067</td>\n",
              "      <td>20.226236</td>\n",
              "      <td>1</td>\n",
              "      <td>18</td>\n",
              "      <td>98</td>\n",
              "      <td>139.0</td>\n",
              "      <td>98</td>\n",
              "      <td>204</td>\n",
              "    </tr>\n",
              "  </tbody>\n",
              "</table>\n",
              "</div>"
            ],
            "text/plain": [
              "   player_id   game_id  ...  shooter_embedding_index_y  count\n",
              "0     201143  21500001  ...                         98    204\n",
              "1     201143  21500389  ...                         98    204\n",
              "2     201143  21500117  ...                         98    204\n",
              "3     201143  21500639  ...                         98    204\n",
              "4     201143  21500117  ...                         98    204\n",
              "\n",
              "[5 rows x 16 columns]"
            ]
          },
          "metadata": {
            "tags": []
          },
          "execution_count": 185
        }
      ]
    },
    {
      "cell_type": "code",
      "metadata": {
        "id": "B9TMK_6uGuoc",
        "colab_type": "code",
        "colab": {}
      },
      "source": [
        "from sklearn.model_selection import train_test_split\n",
        "\n",
        "# split data for train and test\n",
        "X_train, X_test, y_train, y_test = train_test_split(data[feature_columns], data[['shot_made_flag']], stratify=data['player_id'], test_size=0.05, random_state=42)\n",
        "\n",
        "# prep train data\n",
        "X_train_shooter = X_train[['shooter_embedding_index']]\n",
        "X_train_off_rest = X_train[['x_loc', 'y_loc', 'recorded_shot_distance', 'closest_distance_from_shooter']]\n",
        "X_train_defender = X_train[['defender_embedding_index']]\n",
        "X_train_defender_rest = X_train[['closest_distance_from_shooter']]\n",
        "\n",
        "# prep test data\n",
        "X_test_shooter = X_test[['shooter_embedding_index']]\n",
        "X_test_off_rest = X_test[['x_loc', 'y_loc', 'recorded_shot_distance', 'closest_distance_from_shooter']]\n",
        "X_test_defender = X_test[['defender_embedding_index']]\n",
        "X_test_defender_rest = X_test[['closest_distance_from_shooter']]"
      ],
      "execution_count": 0,
      "outputs": []
    },
    {
      "cell_type": "code",
      "metadata": {
        "id": "PXooXjy4I6RE",
        "colab_type": "code",
        "outputId": "99560531-a7ca-43c5-8301-6ce21a37b0c3",
        "colab": {
          "base_uri": "https://localhost:8080/",
          "height": 179
        }
      },
      "source": [
        "# auditing of data shape\n",
        "\n",
        "print(X_train.shape)\n",
        "print(y_train.shape)\n",
        "print(X_test.shape)\n",
        "print(y_test.shape)\n",
        "\n",
        "X_train[:2]"
      ],
      "execution_count": 0,
      "outputs": [
        {
          "output_type": "stream",
          "text": [
            "(25932, 6)\n",
            "(25932, 1)\n",
            "(1365, 6)\n",
            "(1365, 1)\n"
          ],
          "name": "stdout"
        },
        {
          "output_type": "execute_result",
          "data": {
            "text/html": [
              "<div>\n",
              "<style scoped>\n",
              "    .dataframe tbody tr th:only-of-type {\n",
              "        vertical-align: middle;\n",
              "    }\n",
              "\n",
              "    .dataframe tbody tr th {\n",
              "        vertical-align: top;\n",
              "    }\n",
              "\n",
              "    .dataframe thead th {\n",
              "        text-align: right;\n",
              "    }\n",
              "</style>\n",
              "<table border=\"1\" class=\"dataframe\">\n",
              "  <thead>\n",
              "    <tr style=\"text-align: right;\">\n",
              "      <th></th>\n",
              "      <th>shooter_embedding_index</th>\n",
              "      <th>x_loc</th>\n",
              "      <th>y_loc</th>\n",
              "      <th>recorded_shot_distance</th>\n",
              "      <th>closest_distance_from_shooter</th>\n",
              "      <th>defender_embedding_index</th>\n",
              "    </tr>\n",
              "  </thead>\n",
              "  <tbody>\n",
              "    <tr>\n",
              "      <th>8024</th>\n",
              "      <td>157</td>\n",
              "      <td>20.89377</td>\n",
              "      <td>36.53338</td>\n",
              "      <td>15</td>\n",
              "      <td>3.975135</td>\n",
              "      <td>245.0</td>\n",
              "    </tr>\n",
              "    <tr>\n",
              "      <th>17831</th>\n",
              "      <td>105</td>\n",
              "      <td>2.29179</td>\n",
              "      <td>26.56357</td>\n",
              "      <td>1</td>\n",
              "      <td>3.088012</td>\n",
              "      <td>153.0</td>\n",
              "    </tr>\n",
              "  </tbody>\n",
              "</table>\n",
              "</div>"
            ],
            "text/plain": [
              "       shooter_embedding_index  ...  defender_embedding_index\n",
              "8024                       157  ...                     245.0\n",
              "17831                      105  ...                     153.0\n",
              "\n",
              "[2 rows x 6 columns]"
            ]
          },
          "metadata": {
            "tags": []
          },
          "execution_count": 195
        }
      ]
    },
    {
      "cell_type": "markdown",
      "metadata": {
        "id": "OjZ_cGPxodce",
        "colab_type": "text"
      },
      "source": [
        "# Model Training"
      ]
    },
    {
      "cell_type": "code",
      "metadata": {
        "id": "Zvd0KjhaIoB3",
        "colab_type": "code",
        "outputId": "f06104dd-b5d9-4da8-bd29-47dacbb128c2",
        "colab": {
          "base_uri": "https://localhost:8080/",
          "height": 1000
        }
      },
      "source": [
        "# model training\n",
        "history = model.fit([X_train_shooter, X_train_off_rest, X_train_defender, X_train_defender_rest],\n",
        "                    y_train,\n",
        "                    epochs=200,\n",
        "                    batch_size=512,\n",
        "                    validation_data=([X_test_shooter, X_test_off_rest, X_test_defender, X_test_defender_rest], y_test),\n",
        "                    verbose=1)"
      ],
      "execution_count": 0,
      "outputs": [
        {
          "output_type": "stream",
          "text": [
            "Train on 25932 samples, validate on 1365 samples\n",
            "Epoch 1/200\n",
            "25932/25932 [==============================] - 0s 14us/sample - loss: 0.5181 - acc: 0.7222 - auc_16: 0.8065 - val_loss: 0.9211 - val_acc: 0.5883 - val_auc_16: 0.6061\n",
            "Epoch 2/200\n",
            "25932/25932 [==============================] - 0s 15us/sample - loss: 0.5138 - acc: 0.7212 - auc_16: 0.8074 - val_loss: 0.9065 - val_acc: 0.5707 - val_auc_16: 0.6054\n",
            "Epoch 3/200\n",
            "25932/25932 [==============================] - 0s 15us/sample - loss: 0.5141 - acc: 0.7196 - auc_16: 0.8065 - val_loss: 0.9225 - val_acc: 0.5868 - val_auc_16: 0.6070\n",
            "Epoch 4/200\n",
            "25932/25932 [==============================] - 0s 15us/sample - loss: 0.5088 - acc: 0.7221 - auc_16: 0.8090 - val_loss: 0.9211 - val_acc: 0.5817 - val_auc_16: 0.6020\n",
            "Epoch 5/200\n",
            "25932/25932 [==============================] - 0s 15us/sample - loss: 0.5073 - acc: 0.7230 - auc_16: 0.8108 - val_loss: 0.9165 - val_acc: 0.5685 - val_auc_16: 0.5985\n",
            "Epoch 6/200\n",
            "25932/25932 [==============================] - 0s 15us/sample - loss: 0.5073 - acc: 0.7234 - auc_16: 0.8103 - val_loss: 0.9146 - val_acc: 0.5890 - val_auc_16: 0.6126\n",
            "Epoch 7/200\n",
            "25932/25932 [==============================] - 0s 15us/sample - loss: 0.5077 - acc: 0.7210 - auc_16: 0.8097 - val_loss: 0.9107 - val_acc: 0.5648 - val_auc_16: 0.5994\n",
            "Epoch 8/200\n",
            "25932/25932 [==============================] - 0s 14us/sample - loss: 0.5050 - acc: 0.7249 - auc_16: 0.8116 - val_loss: 0.9178 - val_acc: 0.5722 - val_auc_16: 0.6078\n",
            "Epoch 9/200\n",
            "25932/25932 [==============================] - 0s 15us/sample - loss: 0.5022 - acc: 0.7257 - auc_16: 0.8140 - val_loss: 0.9020 - val_acc: 0.5722 - val_auc_16: 0.6017\n",
            "Epoch 10/200\n",
            "25932/25932 [==============================] - 0s 15us/sample - loss: 0.5016 - acc: 0.7247 - auc_16: 0.8136 - val_loss: 0.9194 - val_acc: 0.5795 - val_auc_16: 0.6017\n",
            "Epoch 11/200\n",
            "25932/25932 [==============================] - 0s 15us/sample - loss: 0.5022 - acc: 0.7247 - auc_16: 0.8139 - val_loss: 0.8997 - val_acc: 0.5832 - val_auc_16: 0.6038\n",
            "Epoch 12/200\n",
            "25932/25932 [==============================] - 0s 14us/sample - loss: 0.4993 - acc: 0.7259 - auc_16: 0.8161 - val_loss: 0.9197 - val_acc: 0.5670 - val_auc_16: 0.5971\n",
            "Epoch 13/200\n",
            "25932/25932 [==============================] - 0s 15us/sample - loss: 0.4998 - acc: 0.7243 - auc_16: 0.8147 - val_loss: 0.9050 - val_acc: 0.5780 - val_auc_16: 0.6005\n",
            "Epoch 14/200\n",
            "25932/25932 [==============================] - 0s 14us/sample - loss: 0.5038 - acc: 0.7219 - auc_16: 0.8110 - val_loss: 0.9109 - val_acc: 0.5883 - val_auc_16: 0.6051\n",
            "Epoch 15/200\n",
            "25932/25932 [==============================] - 0s 15us/sample - loss: 0.5028 - acc: 0.7241 - auc_16: 0.8126 - val_loss: 0.9088 - val_acc: 0.5663 - val_auc_16: 0.6035\n",
            "Epoch 16/200\n",
            "25932/25932 [==============================] - 0s 14us/sample - loss: 0.4992 - acc: 0.7261 - auc_16: 0.8151 - val_loss: 0.9223 - val_acc: 0.5568 - val_auc_16: 0.6024\n",
            "Epoch 17/200\n",
            "25932/25932 [==============================] - 0s 14us/sample - loss: 0.5000 - acc: 0.7230 - auc_16: 0.8140 - val_loss: 0.9213 - val_acc: 0.5810 - val_auc_16: 0.5979\n",
            "Epoch 18/200\n",
            "25932/25932 [==============================] - 0s 14us/sample - loss: 0.4973 - acc: 0.7264 - auc_16: 0.8169 - val_loss: 0.9308 - val_acc: 0.5751 - val_auc_16: 0.6034\n",
            "Epoch 19/200\n",
            "25932/25932 [==============================] - 0s 14us/sample - loss: 0.4979 - acc: 0.7255 - auc_16: 0.8158 - val_loss: 0.9350 - val_acc: 0.5766 - val_auc_16: 0.6019\n",
            "Epoch 20/200\n",
            "25932/25932 [==============================] - 0s 14us/sample - loss: 0.4988 - acc: 0.7256 - auc_16: 0.8149 - val_loss: 0.9241 - val_acc: 0.5678 - val_auc_16: 0.6012\n",
            "Epoch 21/200\n",
            "25932/25932 [==============================] - 0s 16us/sample - loss: 0.5001 - acc: 0.7229 - auc_16: 0.8137 - val_loss: 0.9199 - val_acc: 0.5934 - val_auc_16: 0.6091\n",
            "Epoch 22/200\n",
            "25932/25932 [==============================] - 0s 14us/sample - loss: 0.4996 - acc: 0.7242 - auc_16: 0.8134 - val_loss: 0.9261 - val_acc: 0.5817 - val_auc_16: 0.6075\n",
            "Epoch 23/200\n",
            "25932/25932 [==============================] - 0s 14us/sample - loss: 0.4959 - acc: 0.7265 - auc_16: 0.8169 - val_loss: 0.9263 - val_acc: 0.5963 - val_auc_16: 0.6070\n",
            "Epoch 24/200\n",
            "25932/25932 [==============================] - 0s 14us/sample - loss: 0.4952 - acc: 0.7255 - auc_16: 0.8173 - val_loss: 0.9436 - val_acc: 0.5641 - val_auc_16: 0.6060\n",
            "Epoch 25/200\n",
            "25932/25932 [==============================] - 0s 14us/sample - loss: 0.4954 - acc: 0.7265 - auc_16: 0.8172 - val_loss: 0.9219 - val_acc: 0.5744 - val_auc_16: 0.6049\n",
            "Epoch 26/200\n",
            "25932/25932 [==============================] - 0s 14us/sample - loss: 0.4925 - acc: 0.7295 - auc_16: 0.8204 - val_loss: 0.9285 - val_acc: 0.5744 - val_auc_16: 0.5997\n",
            "Epoch 27/200\n",
            "25932/25932 [==============================] - 0s 14us/sample - loss: 0.4946 - acc: 0.7266 - auc_16: 0.8176 - val_loss: 0.9314 - val_acc: 0.5692 - val_auc_16: 0.6031\n",
            "Epoch 28/200\n",
            "25932/25932 [==============================] - 0s 14us/sample - loss: 0.4929 - acc: 0.7284 - auc_16: 0.8195 - val_loss: 0.9381 - val_acc: 0.5912 - val_auc_16: 0.6091\n",
            "Epoch 29/200\n",
            "25932/25932 [==============================] - 0s 14us/sample - loss: 0.4901 - acc: 0.7310 - auc_16: 0.8215 - val_loss: 0.9406 - val_acc: 0.5861 - val_auc_16: 0.6054\n",
            "Epoch 30/200\n",
            "25932/25932 [==============================] - 0s 13us/sample - loss: 0.4931 - acc: 0.7288 - auc_16: 0.8193 - val_loss: 0.9294 - val_acc: 0.5758 - val_auc_16: 0.6066\n",
            "Epoch 31/200\n",
            "25932/25932 [==============================] - 0s 14us/sample - loss: 0.4912 - acc: 0.7287 - auc_16: 0.8210 - val_loss: 0.9312 - val_acc: 0.5736 - val_auc_16: 0.6064\n",
            "Epoch 32/200\n",
            "25932/25932 [==============================] - 0s 14us/sample - loss: 0.4920 - acc: 0.7289 - auc_16: 0.8192 - val_loss: 0.9509 - val_acc: 0.5780 - val_auc_16: 0.6041\n",
            "Epoch 33/200\n",
            "25932/25932 [==============================] - 0s 14us/sample - loss: 0.4890 - acc: 0.7306 - auc_16: 0.8223 - val_loss: 0.9402 - val_acc: 0.5531 - val_auc_16: 0.5996\n",
            "Epoch 34/200\n",
            "25932/25932 [==============================] - 0s 15us/sample - loss: 0.4898 - acc: 0.7298 - auc_16: 0.8219 - val_loss: 0.9435 - val_acc: 0.5707 - val_auc_16: 0.6070\n",
            "Epoch 35/200\n",
            "25932/25932 [==============================] - 0s 14us/sample - loss: 0.4903 - acc: 0.7321 - auc_16: 0.8215 - val_loss: 0.9528 - val_acc: 0.5839 - val_auc_16: 0.6086\n",
            "Epoch 36/200\n",
            "25932/25932 [==============================] - 0s 14us/sample - loss: 0.4906 - acc: 0.7289 - auc_16: 0.8209 - val_loss: 0.9502 - val_acc: 0.5839 - val_auc_16: 0.6153\n",
            "Epoch 37/200\n",
            "25932/25932 [==============================] - 0s 14us/sample - loss: 0.4881 - acc: 0.7315 - auc_16: 0.8228 - val_loss: 0.9477 - val_acc: 0.5707 - val_auc_16: 0.6089\n",
            "Epoch 38/200\n",
            "25932/25932 [==============================] - 0s 15us/sample - loss: 0.4901 - acc: 0.7312 - auc_16: 0.8217 - val_loss: 0.9703 - val_acc: 0.5744 - val_auc_16: 0.6044\n",
            "Epoch 39/200\n",
            "25932/25932 [==============================] - 0s 15us/sample - loss: 0.4887 - acc: 0.7315 - auc_16: 0.8226 - val_loss: 0.9663 - val_acc: 0.5971 - val_auc_16: 0.6067\n",
            "Epoch 40/200\n",
            "25932/25932 [==============================] - 0s 14us/sample - loss: 0.4869 - acc: 0.7315 - auc_16: 0.8236 - val_loss: 0.9827 - val_acc: 0.5670 - val_auc_16: 0.6053\n",
            "Epoch 41/200\n",
            "25932/25932 [==============================] - 0s 14us/sample - loss: 0.4881 - acc: 0.7304 - auc_16: 0.8224 - val_loss: 0.9424 - val_acc: 0.5707 - val_auc_16: 0.6060\n",
            "Epoch 42/200\n",
            "25932/25932 [==============================] - 0s 14us/sample - loss: 0.4887 - acc: 0.7299 - auc_16: 0.8219 - val_loss: 0.9791 - val_acc: 0.5963 - val_auc_16: 0.6071\n",
            "Epoch 43/200\n",
            "25932/25932 [==============================] - 0s 14us/sample - loss: 0.4945 - acc: 0.7282 - auc_16: 0.8176 - val_loss: 0.9484 - val_acc: 0.5612 - val_auc_16: 0.6026\n",
            "Epoch 44/200\n",
            "25932/25932 [==============================] - 0s 14us/sample - loss: 0.4874 - acc: 0.7316 - auc_16: 0.8229 - val_loss: 0.9586 - val_acc: 0.5751 - val_auc_16: 0.6078\n",
            "Epoch 45/200\n",
            "25932/25932 [==============================] - 0s 14us/sample - loss: 0.4849 - acc: 0.7314 - auc_16: 0.8253 - val_loss: 0.9663 - val_acc: 0.5890 - val_auc_16: 0.6147\n",
            "Epoch 46/200\n",
            "25932/25932 [==============================] - 0s 14us/sample - loss: 0.4863 - acc: 0.7315 - auc_16: 0.8237 - val_loss: 0.9699 - val_acc: 0.5788 - val_auc_16: 0.6126\n",
            "Epoch 47/200\n",
            "25932/25932 [==============================] - 0s 14us/sample - loss: 0.4841 - acc: 0.7336 - auc_16: 0.8258 - val_loss: 0.9460 - val_acc: 0.5692 - val_auc_16: 0.6080\n",
            "Epoch 48/200\n",
            "25932/25932 [==============================] - 0s 15us/sample - loss: 0.4849 - acc: 0.7328 - auc_16: 0.8251 - val_loss: 0.9788 - val_acc: 0.5853 - val_auc_16: 0.6119\n",
            "Epoch 49/200\n",
            "25932/25932 [==============================] - 0s 14us/sample - loss: 0.4838 - acc: 0.7335 - auc_16: 0.8257 - val_loss: 0.9801 - val_acc: 0.5722 - val_auc_16: 0.6100\n",
            "Epoch 50/200\n",
            "25932/25932 [==============================] - 0s 14us/sample - loss: 0.4852 - acc: 0.7321 - auc_16: 0.8247 - val_loss: 0.9581 - val_acc: 0.5751 - val_auc_16: 0.6095\n",
            "Epoch 51/200\n",
            "25932/25932 [==============================] - 0s 14us/sample - loss: 0.4843 - acc: 0.7323 - auc_16: 0.8246 - val_loss: 0.9743 - val_acc: 0.5714 - val_auc_16: 0.6070\n",
            "Epoch 52/200\n",
            "25932/25932 [==============================] - 0s 15us/sample - loss: 0.4853 - acc: 0.7335 - auc_16: 0.8256 - val_loss: 0.9633 - val_acc: 0.5853 - val_auc_16: 0.6108\n",
            "Epoch 53/200\n",
            "25932/25932 [==============================] - 0s 14us/sample - loss: 0.4827 - acc: 0.7328 - auc_16: 0.8261 - val_loss: 0.9529 - val_acc: 0.5773 - val_auc_16: 0.6069\n",
            "Epoch 54/200\n",
            "25932/25932 [==============================] - 0s 14us/sample - loss: 0.4857 - acc: 0.7315 - auc_16: 0.8237 - val_loss: 0.9790 - val_acc: 0.5780 - val_auc_16: 0.6107\n",
            "Epoch 55/200\n",
            "25932/25932 [==============================] - 0s 15us/sample - loss: 0.4879 - acc: 0.7326 - auc_16: 0.8222 - val_loss: 1.0051 - val_acc: 0.5963 - val_auc_16: 0.6112\n",
            "Epoch 56/200\n",
            "25932/25932 [==============================] - 0s 14us/sample - loss: 0.4879 - acc: 0.7304 - auc_16: 0.8221 - val_loss: 0.9859 - val_acc: 0.5890 - val_auc_16: 0.6133\n",
            "Epoch 57/200\n",
            "25932/25932 [==============================] - 0s 14us/sample - loss: 0.4812 - acc: 0.7351 - auc_16: 0.8268 - val_loss: 0.9821 - val_acc: 0.5648 - val_auc_16: 0.6011\n",
            "Epoch 58/200\n",
            "25932/25932 [==============================] - 0s 14us/sample - loss: 0.4864 - acc: 0.7314 - auc_16: 0.8232 - val_loss: 0.9923 - val_acc: 0.5758 - val_auc_16: 0.6127\n",
            "Epoch 59/200\n",
            "25932/25932 [==============================] - 0s 14us/sample - loss: 0.4844 - acc: 0.7317 - auc_16: 0.8248 - val_loss: 0.9894 - val_acc: 0.5868 - val_auc_16: 0.6110\n",
            "Epoch 60/200\n",
            "25932/25932 [==============================] - 0s 14us/sample - loss: 0.4850 - acc: 0.7310 - auc_16: 0.8237 - val_loss: 0.9914 - val_acc: 0.5788 - val_auc_16: 0.6112\n",
            "Epoch 61/200\n",
            "25932/25932 [==============================] - 0s 13us/sample - loss: 0.4844 - acc: 0.7325 - auc_16: 0.8239 - val_loss: 0.9996 - val_acc: 0.5853 - val_auc_16: 0.6126\n",
            "Epoch 62/200\n",
            "25932/25932 [==============================] - 0s 14us/sample - loss: 0.4867 - acc: 0.7304 - auc_16: 0.8224 - val_loss: 1.0159 - val_acc: 0.5956 - val_auc_16: 0.6081\n",
            "Epoch 63/200\n",
            "25932/25932 [==============================] - 0s 14us/sample - loss: 0.4915 - acc: 0.7255 - auc_16: 0.8188 - val_loss: 0.9877 - val_acc: 0.5626 - val_auc_16: 0.6080\n",
            "Epoch 64/200\n",
            "25932/25932 [==============================] - 0s 14us/sample - loss: 0.4848 - acc: 0.7309 - auc_16: 0.8238 - val_loss: 0.9739 - val_acc: 0.5480 - val_auc_16: 0.6031\n",
            "Epoch 65/200\n",
            "25932/25932 [==============================] - 0s 14us/sample - loss: 0.4812 - acc: 0.7336 - auc_16: 0.8267 - val_loss: 0.9989 - val_acc: 0.5773 - val_auc_16: 0.6084\n",
            "Epoch 66/200\n",
            "25932/25932 [==============================] - 0s 14us/sample - loss: 0.4830 - acc: 0.7320 - auc_16: 0.8256 - val_loss: 0.9935 - val_acc: 0.5714 - val_auc_16: 0.6060\n",
            "Epoch 67/200\n",
            "25932/25932 [==============================] - 0s 14us/sample - loss: 0.4799 - acc: 0.7372 - auc_16: 0.8276 - val_loss: 0.9877 - val_acc: 0.5656 - val_auc_16: 0.6051\n",
            "Epoch 68/200\n",
            "25932/25932 [==============================] - 0s 14us/sample - loss: 0.4761 - acc: 0.7375 - auc_16: 0.8309 - val_loss: 1.0081 - val_acc: 0.5824 - val_auc_16: 0.6060\n",
            "Epoch 69/200\n",
            "25932/25932 [==============================] - 0s 15us/sample - loss: 0.4758 - acc: 0.7374 - auc_16: 0.8306 - val_loss: 1.0167 - val_acc: 0.5531 - val_auc_16: 0.6069\n",
            "Epoch 70/200\n",
            "25932/25932 [==============================] - 0s 14us/sample - loss: 0.4776 - acc: 0.7358 - auc_16: 0.8293 - val_loss: 0.9970 - val_acc: 0.5758 - val_auc_16: 0.6117\n",
            "Epoch 71/200\n",
            "25932/25932 [==============================] - 0s 14us/sample - loss: 0.4804 - acc: 0.7338 - auc_16: 0.8275 - val_loss: 0.9899 - val_acc: 0.5692 - val_auc_16: 0.6010\n",
            "Epoch 72/200\n",
            "25932/25932 [==============================] - 0s 14us/sample - loss: 0.4791 - acc: 0.7357 - auc_16: 0.8279 - val_loss: 0.9930 - val_acc: 0.5612 - val_auc_16: 0.6089\n",
            "Epoch 73/200\n",
            "25932/25932 [==============================] - 0s 14us/sample - loss: 0.4760 - acc: 0.7376 - auc_16: 0.8304 - val_loss: 1.0223 - val_acc: 0.5919 - val_auc_16: 0.6086\n",
            "Epoch 74/200\n",
            "25932/25932 [==============================] - 0s 15us/sample - loss: 0.4773 - acc: 0.7366 - auc_16: 0.8298 - val_loss: 1.0183 - val_acc: 0.5729 - val_auc_16: 0.6090\n",
            "Epoch 75/200\n",
            "25932/25932 [==============================] - 0s 15us/sample - loss: 0.4766 - acc: 0.7382 - auc_16: 0.8300 - val_loss: 1.0196 - val_acc: 0.5766 - val_auc_16: 0.6128\n",
            "Epoch 76/200\n",
            "25932/25932 [==============================] - 0s 14us/sample - loss: 0.4743 - acc: 0.7373 - auc_16: 0.8317 - val_loss: 1.0227 - val_acc: 0.5963 - val_auc_16: 0.6086\n",
            "Epoch 77/200\n",
            "25932/25932 [==============================] - 0s 14us/sample - loss: 0.4756 - acc: 0.7378 - auc_16: 0.8308 - val_loss: 1.0257 - val_acc: 0.5861 - val_auc_16: 0.6069\n",
            "Epoch 78/200\n",
            "25932/25932 [==============================] - 0s 14us/sample - loss: 0.4762 - acc: 0.7390 - auc_16: 0.8308 - val_loss: 1.0211 - val_acc: 0.5766 - val_auc_16: 0.6043\n",
            "Epoch 79/200\n",
            "25932/25932 [==============================] - 0s 14us/sample - loss: 0.4748 - acc: 0.7392 - auc_16: 0.8313 - val_loss: 1.0292 - val_acc: 0.5678 - val_auc_16: 0.6068\n",
            "Epoch 80/200\n",
            "25932/25932 [==============================] - 0s 14us/sample - loss: 0.4766 - acc: 0.7384 - auc_16: 0.8308 - val_loss: 1.0158 - val_acc: 0.5832 - val_auc_16: 0.6089\n",
            "Epoch 81/200\n",
            "25932/25932 [==============================] - 0s 15us/sample - loss: 0.4776 - acc: 0.7366 - auc_16: 0.8293 - val_loss: 1.0499 - val_acc: 0.5824 - val_auc_16: 0.6114\n",
            "Epoch 82/200\n",
            "25932/25932 [==============================] - 0s 14us/sample - loss: 0.4779 - acc: 0.7349 - auc_16: 0.8288 - val_loss: 1.0399 - val_acc: 0.5648 - val_auc_16: 0.6056\n",
            "Epoch 83/200\n",
            "25932/25932 [==============================] - 0s 14us/sample - loss: 0.4754 - acc: 0.7381 - auc_16: 0.8307 - val_loss: 1.0249 - val_acc: 0.5963 - val_auc_16: 0.6152\n",
            "Epoch 84/200\n",
            "25932/25932 [==============================] - 0s 14us/sample - loss: 0.4753 - acc: 0.7362 - auc_16: 0.8306 - val_loss: 1.0362 - val_acc: 0.5868 - val_auc_16: 0.6061\n",
            "Epoch 85/200\n",
            "25932/25932 [==============================] - 0s 14us/sample - loss: 0.4745 - acc: 0.7373 - auc_16: 0.8315 - val_loss: 1.0069 - val_acc: 0.5985 - val_auc_16: 0.6165\n",
            "Epoch 86/200\n",
            "25932/25932 [==============================] - 0s 14us/sample - loss: 0.4780 - acc: 0.7345 - auc_16: 0.8287 - val_loss: 1.0625 - val_acc: 0.5700 - val_auc_16: 0.6071\n",
            "Epoch 87/200\n",
            "25932/25932 [==============================] - 0s 14us/sample - loss: 0.4739 - acc: 0.7369 - auc_16: 0.8318 - val_loss: 1.0472 - val_acc: 0.5766 - val_auc_16: 0.6080\n",
            "Epoch 88/200\n",
            "25932/25932 [==============================] - 0s 14us/sample - loss: 0.4782 - acc: 0.7340 - auc_16: 0.8275 - val_loss: 1.0170 - val_acc: 0.5780 - val_auc_16: 0.6094\n",
            "Epoch 89/200\n",
            "25932/25932 [==============================] - 0s 14us/sample - loss: 0.4767 - acc: 0.7348 - auc_16: 0.8296 - val_loss: 1.0369 - val_acc: 0.5795 - val_auc_16: 0.6067\n",
            "Epoch 90/200\n",
            "25932/25932 [==============================] - 0s 14us/sample - loss: 0.4735 - acc: 0.7360 - auc_16: 0.8311 - val_loss: 1.0609 - val_acc: 0.5626 - val_auc_16: 0.6029\n",
            "Epoch 91/200\n",
            "25932/25932 [==============================] - 0s 13us/sample - loss: 0.4781 - acc: 0.7343 - auc_16: 0.8281 - val_loss: 1.0451 - val_acc: 0.5744 - val_auc_16: 0.6045\n",
            "Epoch 92/200\n",
            "25932/25932 [==============================] - 0s 13us/sample - loss: 0.4728 - acc: 0.7397 - auc_16: 0.8326 - val_loss: 1.0357 - val_acc: 0.5795 - val_auc_16: 0.6057\n",
            "Epoch 93/200\n",
            "25932/25932 [==============================] - 0s 14us/sample - loss: 0.4685 - acc: 0.7420 - auc_16: 0.8360 - val_loss: 1.0463 - val_acc: 0.5692 - val_auc_16: 0.6044\n",
            "Epoch 94/200\n",
            "25932/25932 [==============================] - 0s 14us/sample - loss: 0.4699 - acc: 0.7399 - auc_16: 0.8340 - val_loss: 1.0609 - val_acc: 0.5744 - val_auc_16: 0.6069\n",
            "Epoch 95/200\n",
            "25932/25932 [==============================] - 0s 15us/sample - loss: 0.4712 - acc: 0.7407 - auc_16: 0.8340 - val_loss: 1.0685 - val_acc: 0.5810 - val_auc_16: 0.6076\n",
            "Epoch 96/200\n",
            "25932/25932 [==============================] - 0s 14us/sample - loss: 0.4711 - acc: 0.7392 - auc_16: 0.8341 - val_loss: 1.0777 - val_acc: 0.5861 - val_auc_16: 0.6072\n",
            "Epoch 97/200\n",
            "25932/25932 [==============================] - 0s 14us/sample - loss: 0.4708 - acc: 0.7404 - auc_16: 0.8334 - val_loss: 1.0646 - val_acc: 0.5597 - val_auc_16: 0.6058\n",
            "Epoch 98/200\n",
            "25932/25932 [==============================] - 0s 14us/sample - loss: 0.4704 - acc: 0.7395 - auc_16: 0.8336 - val_loss: 1.0596 - val_acc: 0.5766 - val_auc_16: 0.6052\n",
            "Epoch 99/200\n",
            "25932/25932 [==============================] - 0s 14us/sample - loss: 0.4773 - acc: 0.7350 - auc_16: 0.8285 - val_loss: 1.0570 - val_acc: 0.5685 - val_auc_16: 0.6040\n",
            "Epoch 100/200\n",
            "25932/25932 [==============================] - 0s 15us/sample - loss: 0.4742 - acc: 0.7380 - auc_16: 0.8316 - val_loss: 1.0625 - val_acc: 0.5714 - val_auc_16: 0.6058\n",
            "Epoch 101/200\n",
            "25932/25932 [==============================] - 0s 14us/sample - loss: 0.4764 - acc: 0.7366 - auc_16: 0.8294 - val_loss: 1.0929 - val_acc: 0.5897 - val_auc_16: 0.6155\n",
            "Epoch 102/200\n",
            "25932/25932 [==============================] - 0s 14us/sample - loss: 0.4735 - acc: 0.7360 - auc_16: 0.8314 - val_loss: 1.0718 - val_acc: 0.5905 - val_auc_16: 0.6082\n",
            "Epoch 103/200\n",
            "25932/25932 [==============================] - 0s 15us/sample - loss: 0.4714 - acc: 0.7377 - auc_16: 0.8329 - val_loss: 1.0442 - val_acc: 0.5707 - val_auc_16: 0.6057\n",
            "Epoch 104/200\n",
            "25932/25932 [==============================] - 0s 14us/sample - loss: 0.4725 - acc: 0.7376 - auc_16: 0.8321 - val_loss: 1.0767 - val_acc: 0.5927 - val_auc_16: 0.6061\n",
            "Epoch 105/200\n",
            "25932/25932 [==============================] - 0s 14us/sample - loss: 0.4706 - acc: 0.7407 - auc_16: 0.8341 - val_loss: 1.0751 - val_acc: 0.5875 - val_auc_16: 0.6140\n",
            "Epoch 106/200\n",
            "25932/25932 [==============================] - 0s 14us/sample - loss: 0.4719 - acc: 0.7377 - auc_16: 0.8327 - val_loss: 1.0989 - val_acc: 0.5773 - val_auc_16: 0.6067\n",
            "Epoch 107/200\n",
            "25932/25932 [==============================] - 0s 14us/sample - loss: 0.4705 - acc: 0.7393 - auc_16: 0.8337 - val_loss: 1.0969 - val_acc: 0.5897 - val_auc_16: 0.6072\n",
            "Epoch 108/200\n",
            "25932/25932 [==============================] - 0s 14us/sample - loss: 0.4681 - acc: 0.7401 - auc_16: 0.8355 - val_loss: 1.0871 - val_acc: 0.5802 - val_auc_16: 0.6087\n",
            "Epoch 109/200\n",
            "25932/25932 [==============================] - 0s 15us/sample - loss: 0.4697 - acc: 0.7396 - auc_16: 0.8342 - val_loss: 1.0829 - val_acc: 0.5868 - val_auc_16: 0.6062\n",
            "Epoch 110/200\n",
            "25932/25932 [==============================] - 0s 15us/sample - loss: 0.4749 - acc: 0.7374 - auc_16: 0.8301 - val_loss: 1.0789 - val_acc: 0.5700 - val_auc_16: 0.6070\n",
            "Epoch 111/200\n",
            "25932/25932 [==============================] - 0s 15us/sample - loss: 0.4727 - acc: 0.7385 - auc_16: 0.8322 - val_loss: 1.1068 - val_acc: 0.5883 - val_auc_16: 0.6062\n",
            "Epoch 112/200\n",
            "25932/25932 [==============================] - 0s 15us/sample - loss: 0.4706 - acc: 0.7382 - auc_16: 0.8328 - val_loss: 1.0926 - val_acc: 0.5780 - val_auc_16: 0.6023\n",
            "Epoch 113/200\n",
            "25932/25932 [==============================] - 0s 15us/sample - loss: 0.4678 - acc: 0.7401 - auc_16: 0.8358 - val_loss: 1.1277 - val_acc: 0.5861 - val_auc_16: 0.6048\n",
            "Epoch 114/200\n",
            "25932/25932 [==============================] - 0s 15us/sample - loss: 0.4669 - acc: 0.7421 - auc_16: 0.8364 - val_loss: 1.1396 - val_acc: 0.5949 - val_auc_16: 0.6046\n",
            "Epoch 115/200\n",
            "25932/25932 [==============================] - 0s 14us/sample - loss: 0.4715 - acc: 0.7396 - auc_16: 0.8332 - val_loss: 1.1124 - val_acc: 0.5802 - val_auc_16: 0.6018\n",
            "Epoch 116/200\n",
            "25932/25932 [==============================] - 0s 15us/sample - loss: 0.4651 - acc: 0.7434 - auc_16: 0.8378 - val_loss: 1.1040 - val_acc: 0.5846 - val_auc_16: 0.6106\n",
            "Epoch 117/200\n",
            "25932/25932 [==============================] - 0s 15us/sample - loss: 0.4664 - acc: 0.7439 - auc_16: 0.8373 - val_loss: 1.1054 - val_acc: 0.5868 - val_auc_16: 0.6077\n",
            "Epoch 118/200\n",
            "25932/25932 [==============================] - 0s 14us/sample - loss: 0.4660 - acc: 0.7411 - auc_16: 0.8362 - val_loss: 1.0843 - val_acc: 0.5846 - val_auc_16: 0.6110\n",
            "Epoch 119/200\n",
            "25932/25932 [==============================] - 0s 15us/sample - loss: 0.4707 - acc: 0.7403 - auc_16: 0.8347 - val_loss: 1.0822 - val_acc: 0.5663 - val_auc_16: 0.5968\n",
            "Epoch 120/200\n",
            "25932/25932 [==============================] - 0s 15us/sample - loss: 0.4667 - acc: 0.7438 - auc_16: 0.8367 - val_loss: 1.1068 - val_acc: 0.5546 - val_auc_16: 0.6012\n",
            "Epoch 121/200\n",
            "25932/25932 [==============================] - 0s 15us/sample - loss: 0.4630 - acc: 0.7460 - auc_16: 0.8394 - val_loss: 1.1233 - val_acc: 0.5824 - val_auc_16: 0.6061\n",
            "Epoch 122/200\n",
            "25932/25932 [==============================] - 0s 15us/sample - loss: 0.4612 - acc: 0.7451 - auc_16: 0.8401 - val_loss: 1.1225 - val_acc: 0.5758 - val_auc_16: 0.6065\n",
            "Epoch 123/200\n",
            "25932/25932 [==============================] - 0s 15us/sample - loss: 0.4645 - acc: 0.7428 - auc_16: 0.8383 - val_loss: 1.1256 - val_acc: 0.5853 - val_auc_16: 0.6065\n",
            "Epoch 124/200\n",
            "25932/25932 [==============================] - 0s 15us/sample - loss: 0.4627 - acc: 0.7434 - auc_16: 0.8389 - val_loss: 1.1284 - val_acc: 0.5839 - val_auc_16: 0.6024\n",
            "Epoch 125/200\n",
            "25932/25932 [==============================] - 0s 14us/sample - loss: 0.4646 - acc: 0.7427 - auc_16: 0.8376 - val_loss: 1.1266 - val_acc: 0.5619 - val_auc_16: 0.6017\n",
            "Epoch 126/200\n",
            "25932/25932 [==============================] - 0s 14us/sample - loss: 0.4691 - acc: 0.7414 - auc_16: 0.8346 - val_loss: 1.1159 - val_acc: 0.5824 - val_auc_16: 0.5984\n",
            "Epoch 127/200\n",
            "25932/25932 [==============================] - 0s 15us/sample - loss: 0.4702 - acc: 0.7394 - auc_16: 0.8333 - val_loss: 1.1164 - val_acc: 0.5678 - val_auc_16: 0.6044\n",
            "Epoch 128/200\n",
            "25932/25932 [==============================] - 0s 15us/sample - loss: 0.4694 - acc: 0.7390 - auc_16: 0.8335 - val_loss: 1.1094 - val_acc: 0.5773 - val_auc_16: 0.6103\n",
            "Epoch 129/200\n",
            "25932/25932 [==============================] - 0s 16us/sample - loss: 0.4746 - acc: 0.7370 - auc_16: 0.8304 - val_loss: 1.0994 - val_acc: 0.5788 - val_auc_16: 0.6109\n",
            "Epoch 130/200\n",
            "25932/25932 [==============================] - 0s 15us/sample - loss: 0.4714 - acc: 0.7374 - auc_16: 0.8317 - val_loss: 1.1281 - val_acc: 0.5766 - val_auc_16: 0.6070\n",
            "Epoch 131/200\n",
            "25932/25932 [==============================] - 0s 14us/sample - loss: 0.4636 - acc: 0.7436 - auc_16: 0.8387 - val_loss: 1.1612 - val_acc: 0.5641 - val_auc_16: 0.5990\n",
            "Epoch 132/200\n",
            "25932/25932 [==============================] - 0s 14us/sample - loss: 0.4628 - acc: 0.7443 - auc_16: 0.8388 - val_loss: 1.1623 - val_acc: 0.5897 - val_auc_16: 0.6052\n",
            "Epoch 133/200\n",
            "25932/25932 [==============================] - 0s 14us/sample - loss: 0.4630 - acc: 0.7437 - auc_16: 0.8381 - val_loss: 1.1405 - val_acc: 0.5641 - val_auc_16: 0.6050\n",
            "Epoch 134/200\n",
            "25932/25932 [==============================] - 0s 15us/sample - loss: 0.4631 - acc: 0.7439 - auc_16: 0.8383 - val_loss: 1.1501 - val_acc: 0.5707 - val_auc_16: 0.5989\n",
            "Epoch 135/200\n",
            "25932/25932 [==============================] - 0s 15us/sample - loss: 0.4642 - acc: 0.7427 - auc_16: 0.8371 - val_loss: 1.1595 - val_acc: 0.5846 - val_auc_16: 0.6077\n",
            "Epoch 136/200\n",
            "25932/25932 [==============================] - 0s 14us/sample - loss: 0.4626 - acc: 0.7438 - auc_16: 0.8392 - val_loss: 1.1446 - val_acc: 0.5802 - val_auc_16: 0.6081\n",
            "Epoch 137/200\n",
            "25932/25932 [==============================] - 0s 14us/sample - loss: 0.4639 - acc: 0.7450 - auc_16: 0.8382 - val_loss: 1.1787 - val_acc: 0.5853 - val_auc_16: 0.6085\n",
            "Epoch 138/200\n",
            "25932/25932 [==============================] - 0s 14us/sample - loss: 0.4653 - acc: 0.7433 - auc_16: 0.8369 - val_loss: 1.1357 - val_acc: 0.5648 - val_auc_16: 0.6080\n",
            "Epoch 139/200\n",
            "25932/25932 [==============================] - 0s 14us/sample - loss: 0.4664 - acc: 0.7399 - auc_16: 0.8357 - val_loss: 1.1628 - val_acc: 0.5560 - val_auc_16: 0.6012\n",
            "Epoch 140/200\n",
            "25932/25932 [==============================] - 0s 14us/sample - loss: 0.4632 - acc: 0.7433 - auc_16: 0.8386 - val_loss: 1.1281 - val_acc: 0.5612 - val_auc_16: 0.6059\n",
            "Epoch 141/200\n",
            "25932/25932 [==============================] - 0s 14us/sample - loss: 0.4624 - acc: 0.7443 - auc_16: 0.8389 - val_loss: 1.1409 - val_acc: 0.5670 - val_auc_16: 0.6022\n",
            "Epoch 142/200\n",
            "25932/25932 [==============================] - 0s 14us/sample - loss: 0.4634 - acc: 0.7427 - auc_16: 0.8378 - val_loss: 1.1279 - val_acc: 0.5788 - val_auc_16: 0.6019\n",
            "Epoch 143/200\n",
            "25932/25932 [==============================] - 0s 14us/sample - loss: 0.4620 - acc: 0.7433 - auc_16: 0.8391 - val_loss: 1.1401 - val_acc: 0.5575 - val_auc_16: 0.6013\n",
            "Epoch 144/200\n",
            "25932/25932 [==============================] - 0s 14us/sample - loss: 0.4630 - acc: 0.7427 - auc_16: 0.8382 - val_loss: 1.1688 - val_acc: 0.5714 - val_auc_16: 0.5964\n",
            "Epoch 145/200\n",
            "25932/25932 [==============================] - 0s 14us/sample - loss: 0.4617 - acc: 0.7447 - auc_16: 0.8393 - val_loss: 1.1448 - val_acc: 0.5810 - val_auc_16: 0.6070\n",
            "Epoch 146/200\n",
            "25932/25932 [==============================] - 0s 14us/sample - loss: 0.4644 - acc: 0.7424 - auc_16: 0.8372 - val_loss: 1.1606 - val_acc: 0.5619 - val_auc_16: 0.5995\n",
            "Epoch 147/200\n",
            "25932/25932 [==============================] - 0s 14us/sample - loss: 0.4640 - acc: 0.7429 - auc_16: 0.8376 - val_loss: 1.1696 - val_acc: 0.5802 - val_auc_16: 0.6018\n",
            "Epoch 148/200\n",
            "25932/25932 [==============================] - 0s 14us/sample - loss: 0.4602 - acc: 0.7445 - auc_16: 0.8406 - val_loss: 1.1862 - val_acc: 0.5736 - val_auc_16: 0.6018\n",
            "Epoch 149/200\n",
            "25932/25932 [==============================] - 0s 14us/sample - loss: 0.4607 - acc: 0.7445 - auc_16: 0.8403 - val_loss: 1.1713 - val_acc: 0.5670 - val_auc_16: 0.6001\n",
            "Epoch 150/200\n",
            "25932/25932 [==============================] - 0s 14us/sample - loss: 0.4636 - acc: 0.7436 - auc_16: 0.8385 - val_loss: 1.1914 - val_acc: 0.5897 - val_auc_16: 0.6077\n",
            "Epoch 151/200\n",
            "25932/25932 [==============================] - 0s 14us/sample - loss: 0.4668 - acc: 0.7416 - auc_16: 0.8351 - val_loss: 1.1797 - val_acc: 0.5795 - val_auc_16: 0.6046\n",
            "Epoch 152/200\n",
            "25932/25932 [==============================] - 0s 15us/sample - loss: 0.4612 - acc: 0.7429 - auc_16: 0.8389 - val_loss: 1.1985 - val_acc: 0.5817 - val_auc_16: 0.6038\n",
            "Epoch 153/200\n",
            "25932/25932 [==============================] - 0s 14us/sample - loss: 0.4633 - acc: 0.7441 - auc_16: 0.8378 - val_loss: 1.1867 - val_acc: 0.5758 - val_auc_16: 0.6001\n",
            "Epoch 154/200\n",
            "25932/25932 [==============================] - 0s 14us/sample - loss: 0.4599 - acc: 0.7442 - auc_16: 0.8404 - val_loss: 1.1636 - val_acc: 0.5758 - val_auc_16: 0.6004\n",
            "Epoch 155/200\n",
            "25932/25932 [==============================] - 0s 14us/sample - loss: 0.4564 - acc: 0.7495 - auc_16: 0.8426 - val_loss: 1.1831 - val_acc: 0.5956 - val_auc_16: 0.6107\n",
            "Epoch 156/200\n",
            "25932/25932 [==============================] - 0s 15us/sample - loss: 0.4594 - acc: 0.7448 - auc_16: 0.8404 - val_loss: 1.1816 - val_acc: 0.5788 - val_auc_16: 0.6039\n",
            "Epoch 157/200\n",
            "25932/25932 [==============================] - 0s 14us/sample - loss: 0.4592 - acc: 0.7444 - auc_16: 0.8402 - val_loss: 1.1873 - val_acc: 0.5685 - val_auc_16: 0.6046\n",
            "Epoch 158/200\n",
            "25932/25932 [==============================] - 0s 14us/sample - loss: 0.4573 - acc: 0.7460 - auc_16: 0.8422 - val_loss: 1.1890 - val_acc: 0.5619 - val_auc_16: 0.5989\n",
            "Epoch 159/200\n",
            "25932/25932 [==============================] - 0s 14us/sample - loss: 0.4573 - acc: 0.7471 - auc_16: 0.8416 - val_loss: 1.1835 - val_acc: 0.5802 - val_auc_16: 0.6058\n",
            "Epoch 160/200\n",
            "25932/25932 [==============================] - 0s 14us/sample - loss: 0.4599 - acc: 0.7448 - auc_16: 0.8401 - val_loss: 1.2082 - val_acc: 0.5824 - val_auc_16: 0.6060\n",
            "Epoch 161/200\n",
            "25932/25932 [==============================] - 0s 14us/sample - loss: 0.4549 - acc: 0.7497 - auc_16: 0.8438 - val_loss: 1.2080 - val_acc: 0.5795 - val_auc_16: 0.5997\n",
            "Epoch 162/200\n",
            "25932/25932 [==============================] - 0s 14us/sample - loss: 0.4565 - acc: 0.7463 - auc_16: 0.8426 - val_loss: 1.2101 - val_acc: 0.5824 - val_auc_16: 0.6057\n",
            "Epoch 163/200\n",
            "25932/25932 [==============================] - 0s 14us/sample - loss: 0.4569 - acc: 0.7473 - auc_16: 0.8418 - val_loss: 1.2359 - val_acc: 0.5802 - val_auc_16: 0.6019\n",
            "Epoch 164/200\n",
            "25932/25932 [==============================] - 0s 14us/sample - loss: 0.4589 - acc: 0.7470 - auc_16: 0.8412 - val_loss: 1.2113 - val_acc: 0.5788 - val_auc_16: 0.6035\n",
            "Epoch 165/200\n",
            "25932/25932 [==============================] - 0s 14us/sample - loss: 0.4580 - acc: 0.7468 - auc_16: 0.8413 - val_loss: 1.2457 - val_acc: 0.5897 - val_auc_16: 0.5986\n",
            "Epoch 166/200\n",
            "25932/25932 [==============================] - 0s 14us/sample - loss: 0.4566 - acc: 0.7475 - auc_16: 0.8425 - val_loss: 1.2508 - val_acc: 0.5788 - val_auc_16: 0.6031\n",
            "Epoch 167/200\n",
            "25932/25932 [==============================] - 0s 14us/sample - loss: 0.4558 - acc: 0.7465 - auc_16: 0.8423 - val_loss: 1.2022 - val_acc: 0.5648 - val_auc_16: 0.5993\n",
            "Epoch 168/200\n",
            "25932/25932 [==============================] - 0s 14us/sample - loss: 0.4563 - acc: 0.7477 - auc_16: 0.8417 - val_loss: 1.2206 - val_acc: 0.5817 - val_auc_16: 0.6038\n",
            "Epoch 169/200\n",
            "25932/25932 [==============================] - 0s 14us/sample - loss: 0.4587 - acc: 0.7470 - auc_16: 0.8415 - val_loss: 1.2618 - val_acc: 0.5758 - val_auc_16: 0.5989\n",
            "Epoch 170/200\n",
            "25932/25932 [==============================] - 0s 15us/sample - loss: 0.4551 - acc: 0.7476 - auc_16: 0.8435 - val_loss: 1.2348 - val_acc: 0.5758 - val_auc_16: 0.6019\n",
            "Epoch 171/200\n",
            "25932/25932 [==============================] - 0s 14us/sample - loss: 0.4532 - acc: 0.7497 - auc_16: 0.8448 - val_loss: 1.2413 - val_acc: 0.5692 - val_auc_16: 0.5997\n",
            "Epoch 172/200\n",
            "25932/25932 [==============================] - 0s 14us/sample - loss: 0.4557 - acc: 0.7482 - auc_16: 0.8428 - val_loss: 1.2454 - val_acc: 0.5802 - val_auc_16: 0.6048\n",
            "Epoch 173/200\n",
            "25932/25932 [==============================] - 0s 14us/sample - loss: 0.4586 - acc: 0.7464 - auc_16: 0.8407 - val_loss: 1.2269 - val_acc: 0.5810 - val_auc_16: 0.6068\n",
            "Epoch 174/200\n",
            "25932/25932 [==============================] - 0s 14us/sample - loss: 0.4632 - acc: 0.7433 - auc_16: 0.8372 - val_loss: 1.2300 - val_acc: 0.5758 - val_auc_16: 0.5947\n",
            "Epoch 175/200\n",
            "25932/25932 [==============================] - 0s 14us/sample - loss: 0.4621 - acc: 0.7433 - auc_16: 0.8383 - val_loss: 1.2058 - val_acc: 0.5678 - val_auc_16: 0.5979\n",
            "Epoch 176/200\n",
            "25932/25932 [==============================] - 0s 14us/sample - loss: 0.4578 - acc: 0.7469 - auc_16: 0.8418 - val_loss: 1.2596 - val_acc: 0.5648 - val_auc_16: 0.6038\n",
            "Epoch 177/200\n",
            "25932/25932 [==============================] - 0s 14us/sample - loss: 0.4637 - acc: 0.7427 - auc_16: 0.8381 - val_loss: 1.2208 - val_acc: 0.5810 - val_auc_16: 0.6079\n",
            "Epoch 178/200\n",
            "25932/25932 [==============================] - 0s 14us/sample - loss: 0.4546 - acc: 0.7482 - auc_16: 0.8439 - val_loss: 1.2688 - val_acc: 0.5832 - val_auc_16: 0.6015\n",
            "Epoch 179/200\n",
            "25932/25932 [==============================] - 0s 14us/sample - loss: 0.4542 - acc: 0.7473 - auc_16: 0.8436 - val_loss: 1.2899 - val_acc: 0.5853 - val_auc_16: 0.6027\n",
            "Epoch 180/200\n",
            "25932/25932 [==============================] - 0s 14us/sample - loss: 0.4559 - acc: 0.7495 - auc_16: 0.8428 - val_loss: 1.2452 - val_acc: 0.5678 - val_auc_16: 0.6065\n",
            "Epoch 181/200\n",
            "25932/25932 [==============================] - 0s 14us/sample - loss: 0.4595 - acc: 0.7458 - auc_16: 0.8398 - val_loss: 1.2334 - val_acc: 0.5795 - val_auc_16: 0.5988\n",
            "Epoch 182/200\n",
            "25932/25932 [==============================] - 0s 14us/sample - loss: 0.4558 - acc: 0.7475 - auc_16: 0.8433 - val_loss: 1.2809 - val_acc: 0.5751 - val_auc_16: 0.5979\n",
            "Epoch 183/200\n",
            "25932/25932 [==============================] - 0s 15us/sample - loss: 0.4556 - acc: 0.7464 - auc_16: 0.8424 - val_loss: 1.2731 - val_acc: 0.5810 - val_auc_16: 0.6028\n",
            "Epoch 184/200\n",
            "25932/25932 [==============================] - 0s 13us/sample - loss: 0.4581 - acc: 0.7478 - auc_16: 0.8418 - val_loss: 1.2474 - val_acc: 0.5670 - val_auc_16: 0.6014\n",
            "Epoch 185/200\n",
            "25932/25932 [==============================] - 0s 14us/sample - loss: 0.4560 - acc: 0.7484 - auc_16: 0.8417 - val_loss: 1.2685 - val_acc: 0.5722 - val_auc_16: 0.6027\n",
            "Epoch 186/200\n",
            "25932/25932 [==============================] - 0s 14us/sample - loss: 0.4520 - acc: 0.7507 - auc_16: 0.8460 - val_loss: 1.2586 - val_acc: 0.5824 - val_auc_16: 0.6020\n",
            "Epoch 187/200\n",
            "25932/25932 [==============================] - 0s 15us/sample - loss: 0.4512 - acc: 0.7506 - auc_16: 0.8454 - val_loss: 1.2781 - val_acc: 0.5612 - val_auc_16: 0.5971\n",
            "Epoch 188/200\n",
            "25932/25932 [==============================] - 0s 14us/sample - loss: 0.4515 - acc: 0.7489 - auc_16: 0.8453 - val_loss: 1.2321 - val_acc: 0.5634 - val_auc_16: 0.5986\n",
            "Epoch 189/200\n",
            "25932/25932 [==============================] - 0s 14us/sample - loss: 0.4522 - acc: 0.7500 - auc_16: 0.8453 - val_loss: 1.2843 - val_acc: 0.5678 - val_auc_16: 0.5961\n",
            "Epoch 190/200\n",
            "25932/25932 [==============================] - 0s 14us/sample - loss: 0.4555 - acc: 0.7488 - auc_16: 0.8430 - val_loss: 1.2814 - val_acc: 0.5722 - val_auc_16: 0.6035\n",
            "Epoch 191/200\n",
            "25932/25932 [==============================] - 0s 13us/sample - loss: 0.4514 - acc: 0.7484 - auc_16: 0.8449 - val_loss: 1.2630 - val_acc: 0.5692 - val_auc_16: 0.6024\n",
            "Epoch 192/200\n",
            "25932/25932 [==============================] - 0s 14us/sample - loss: 0.4590 - acc: 0.7454 - auc_16: 0.8406 - val_loss: 1.2598 - val_acc: 0.5575 - val_auc_16: 0.6048\n",
            "Epoch 193/200\n",
            "25932/25932 [==============================] - 0s 15us/sample - loss: 0.4584 - acc: 0.7439 - auc_16: 0.8407 - val_loss: 1.3046 - val_acc: 0.5729 - val_auc_16: 0.5976\n",
            "Epoch 194/200\n",
            "25932/25932 [==============================] - 0s 14us/sample - loss: 0.4596 - acc: 0.7443 - auc_16: 0.8397 - val_loss: 1.2890 - val_acc: 0.5780 - val_auc_16: 0.6021\n",
            "Epoch 195/200\n",
            "25932/25932 [==============================] - 0s 14us/sample - loss: 0.4601 - acc: 0.7459 - auc_16: 0.8400 - val_loss: 1.2673 - val_acc: 0.5700 - val_auc_16: 0.6036\n",
            "Epoch 196/200\n",
            "25932/25932 [==============================] - 0s 14us/sample - loss: 0.4523 - acc: 0.7488 - auc_16: 0.8443 - val_loss: 1.2897 - val_acc: 0.5626 - val_auc_16: 0.6029\n",
            "Epoch 197/200\n",
            "25932/25932 [==============================] - 0s 14us/sample - loss: 0.4490 - acc: 0.7517 - auc_16: 0.8476 - val_loss: 1.2854 - val_acc: 0.5795 - val_auc_16: 0.6011\n",
            "Epoch 198/200\n",
            "25932/25932 [==============================] - 0s 15us/sample - loss: 0.4546 - acc: 0.7480 - auc_16: 0.8435 - val_loss: 1.2591 - val_acc: 0.5861 - val_auc_16: 0.6046\n",
            "Epoch 199/200\n",
            "25932/25932 [==============================] - 0s 15us/sample - loss: 0.4517 - acc: 0.7487 - auc_16: 0.8452 - val_loss: 1.3121 - val_acc: 0.5736 - val_auc_16: 0.5982\n",
            "Epoch 200/200\n",
            "25932/25932 [==============================] - 0s 14us/sample - loss: 0.4541 - acc: 0.7469 - auc_16: 0.8434 - val_loss: 1.3010 - val_acc: 0.5766 - val_auc_16: 0.5975\n"
          ],
          "name": "stdout"
        }
      ]
    },
    {
      "cell_type": "markdown",
      "metadata": {
        "id": "blKNjifdGubs",
        "colab_type": "text"
      },
      "source": [
        ""
      ]
    },
    {
      "cell_type": "code",
      "metadata": {
        "id": "x88G4CeU3hSK",
        "colab_type": "code",
        "colab": {}
      },
      "source": [
        "# calculating fpr and tpr for auc curves\n",
        "from sklearn.metrics import roc_curve\n",
        "y_pred_train_keras = model.predict([X_train_shooter, X_train_off_rest, X_train_defender, X_train_defender_rest])\n",
        "fpr_train_keras, tpr_train_keras, thresholds_train_keras = roc_curve(y_train.to_numpy(), y_pred_train_keras)\n",
        "\n",
        "y_pred_test_keras = model.predict([X_test_shooter, X_test_off_rest, X_test_defender, X_test_defender_rest])\n",
        "fpr_test_keras, tpr_test_keras, thresholds_test_keras = roc_curve(y_test.to_numpy(), y_pred_test_keras)"
      ],
      "execution_count": 0,
      "outputs": []
    },
    {
      "cell_type": "code",
      "metadata": {
        "id": "aOXle6RpwRFy",
        "colab_type": "code",
        "outputId": "127768f6-ce1d-4bf1-aa53-ba0259d26c57",
        "colab": {
          "base_uri": "https://localhost:8080/",
          "height": 269
        }
      },
      "source": [
        "# distribution of predictions\n",
        "import seaborn as sns\n",
        "sns.distplot(y_pred_train_keras);\n",
        "sns.distplot(y_pred_test_keras);"
      ],
      "execution_count": 0,
      "outputs": [
        {
          "output_type": "display_data",
          "data": {
            "image/png": "[encoded data removed]",
            "text/plain": [
              "<Figure size 432x288 with 1 Axes>"
            ]
          },
          "metadata": {
            "tags": []
          }
        }
      ]
    },
    {
      "cell_type": "code",
      "metadata": {
        "id": "AZJqXDWX6uu0",
        "colab_type": "code",
        "outputId": "5d31f722-2560-4a93-eca4-dd41967e61be",
        "colab": {
          "base_uri": "https://localhost:8080/",
          "height": 295
        }
      },
      "source": [
        "# plot training ROC curve\n",
        "from sklearn.metrics import auc\n",
        "auc_keras = auc(fpr_train_keras, tpr_train_keras)\n",
        "\n",
        "plt.figure(1)\n",
        "plt.plot([0, 1], [0, 1], 'k--')\n",
        "plt.plot(fpr_train_keras, tpr_train_keras, label='Keras (area = {:.3f})'.format(auc_keras))\n",
        "plt.xlabel('False positive rate')\n",
        "plt.ylabel('True positive rate')\n",
        "plt.title('ROC curve')\n",
        "plt.legend(loc='best')\n",
        "plt.show()"
      ],
      "execution_count": 0,
      "outputs": [
        {
          "output_type": "display_data",
          "data": {
            "image/png": "[encoded data removed]",
            "text/plain": [
              "<Figure size 432x288 with 1 Axes>"
            ]
          },
          "metadata": {
            "tags": []
          }
        }
      ]
    },
    {
      "cell_type": "markdown",
      "metadata": {
        "id": "yAi9UHDCh_BN",
        "colab_type": "text"
      },
      "source": [
        "# Extract Embedding Weights for Visualization "
      ]
    },
    {
      "cell_type": "code",
      "metadata": {
        "id": "006VywZ_OrFA",
        "colab_type": "code",
        "outputId": "2e8c61cf-45cb-4e7c-f9e6-845ba8fbe789",
        "colab": {
          "base_uri": "https://localhost:8080/",
          "height": 51
        }
      },
      "source": [
        "# extract offensive player embeddings\n",
        "offensive_weights = model.layers[2].get_weights()[0]\n",
        "print(offensive_weights.shape)\n",
        "\n",
        "# extract defensive player embeddings\n",
        "defensive_weights = model.layers[3].get_weights()[0]\n",
        "print(defensive_weights.shape)"
      ],
      "execution_count": 0,
      "outputs": [
        {
          "output_type": "stream",
          "text": [
            "(444, 5)\n",
            "(444, 5)\n"
          ],
          "name": "stdout"
        }
      ]
    },
    {
      "cell_type": "code",
      "metadata": {
        "id": "XvpA4JrM3ynF",
        "colab_type": "code",
        "outputId": "9f2222a0-50c7-486d-fdb4-d41511cc2865",
        "colab": {
          "base_uri": "https://localhost:8080/",
          "height": 51
        }
      },
      "source": [
        "# filter to only players who have more than 20 shots\n",
        "filtered_data = data.groupby(['player_id', 'shooter_embedding_index']).size().reset_index(name='count')\n",
        "filtered_data = filtered_data[filtered_data['count'] > 20]\n",
        "\n",
        "filtered_offensive_weights = []\n",
        "filtered_offensive_players = filtered_data['shooter_embedding_index'].tolist()\n",
        "\n",
        "for idx, weight in enumerate(offensive_weights):\n",
        "  if idx in filtered_offensive_players:\n",
        "    filtered_offensive_weights.append(weight)\n",
        "    \n",
        "# filter to only players who have more than 20 defenses\n",
        "filtered_data = data.groupby(['defender_embedding_index']).size().reset_index(name='count')\n",
        "filtered_data = filtered_data[filtered_data['count'] > 20]\n",
        "\n",
        "filtered_defensive_weights = []\n",
        "filtered_defensive_players = filtered_data['defender_embedding_index'].tolist()\n",
        "\n",
        "for idx, weight in enumerate(defensive_weights):\n",
        "  if idx in filtered_defensive_players:\n",
        "    filtered_defensive_weights.append(weight)\n",
        "\n",
        "# auditing\n",
        "print(len(filtered_offensive_weights))\n",
        "print(len(filtered_defensive_weights))\n",
        "print(len(filtered_defensive_players))"
      ],
      "execution_count": 0,
      "outputs": [
        {
          "output_type": "stream",
          "text": [
            "306\n",
            "324\n"
          ],
          "name": "stdout"
        }
      ]
    },
    {
      "cell_type": "code",
      "metadata": {
        "id": "00zYVufo4zIX",
        "colab_type": "code",
        "colab": {}
      },
      "source": [
        "# filter player metadata to only players with more than 20 shots\n",
        "player_data = pd.read_csv(\"/content/drive/My Drive/Colab Notebooks/NBA/player_aggregates.csv\", sep=\",\")\n",
        "shooter_player_data = player_data[player_data['rank'].isin(filtered_offensive_players)]\n",
        "defender_player_data = player_data[player_data['rank'].isin(filtered_defensive_players)]"
      ],
      "execution_count": 0,
      "outputs": []
    },
    {
      "cell_type": "code",
      "metadata": {
        "id": "HbsmiMV5SE8M",
        "colab_type": "code",
        "colab": {}
      },
      "source": [
        "import io\n",
        "\n",
        "# save shooter and defender player embeddings as vecs.tsv\n",
        "out_vs = io.open('/content/drive/My Drive/Colab Notebooks/NBA/vecs_shooter.tsv', 'w', encoding='utf-8')\n",
        "for ind, vector in enumerate(filtered_offensive_weights):\n",
        "  out_vs.write('\\t'.join([str(x) for x in vector]) + \"\\n\")\n",
        "out_vs.close()\n",
        "\n",
        "out_vd = io.open('/content/drive/My Drive/Colab Notebooks/NBA/vecs_defender.tsv', 'w', encoding='utf-8')\n",
        "for ind, vector in enumerate(filtered_defensive_weights):\n",
        "  out_vd.write('\\t'.join([str(x) for x in vector]) + \"\\n\")\n",
        "out_vd.close()\n",
        "\n",
        "\n",
        "# save player metadata as meta.tsv\n",
        "shooter_player_data.to_csv('/content/drive/My Drive/Colab Notebooks/NBA/meta_shooter.tsv',sep='\\t')\n",
        "defender_player_data.to_csv('/content/drive/My Drive/Colab Notebooks/NBA/meta_defender.tsv',sep='\\t')\n"
      ],
      "execution_count": 0,
      "outputs": []
    },
    {
      "cell_type": "code",
      "metadata": {
        "id": "iadfp7C82V3i",
        "colab_type": "code",
        "colab": {}
      },
      "source": [
        "# download player embeddings\n",
        "try:\n",
        "  from google.colab import files\n",
        "except ImportError:\n",
        "   pass\n",
        "else:\n",
        "  files.download('/content/drive/My Drive/Colab Notebooks/NBA/vecs_shooter.tsv')\n",
        "  files.download('/content/drive/My Drive/Colab Notebooks/NBA/meta_shooter.tsv')\n",
        "  files.download('/content/drive/My Drive/Colab Notebooks/NBA/vecs_defender.tsv')\n",
        "  files.download('/content/drive/My Drive/Colab Notebooks/NBA/meta_defender.tsv')"
      ],
      "execution_count": 0,
      "outputs": []
    },
    {
      "cell_type": "code",
      "metadata": {
        "id": "WSBCstWnEjdG",
        "colab_type": "code",
        "colab": {}
      },
      "source": [
        "# save model in google drive\n",
        "model.save('/content/drive/My Drive/Colab Notebooks/NBA/offensive_defensive_model_v1.h5') "
      ],
      "execution_count": 0,
      "outputs": []
    }
  ]
}